{
 "cells": [
  {
   "cell_type": "code",
   "execution_count": 1,
   "metadata": {},
   "outputs": [],
   "source": [
    "import pandas as pd  # used for data manipulation\n",
    "import csv           # used for working with csv files\n",
    "from bs4 import BeautifulSoup  # web scraping\n",
    "from requests import get\n",
    "from requests.exceptions import RequestException   # add comments for import statements\n",
    "from contextlib import closing\n",
    "\n",
    "\n",
    "# Disable warnings in Anaconda\n",
    "import warnings\n",
    "warnings.simplefilter('ignore')\n",
    "\n",
    "\n"
   ]
  },
  {
   "cell_type": "code",
   "execution_count": 2,
   "metadata": {},
   "outputs": [],
   "source": [
    "# Code Reference: https://realpython.com/python-web-scraping-practical-introduction/\n",
    "\n",
    "def simple_get(url):\n",
    "    \"\"\"\n",
    "    Attempts to get the content at `url` by making an HTTP GET request.\n",
    "    If the content-type of response is some kind of HTML/XML, return the\n",
    "    text content, otherwise return None.\n",
    "    \"\"\"\n",
    "    try:\n",
    "        with closing(get(url, stream=True)) as resp:\n",
    "            if is_good_response(resp):\n",
    "                return resp.content\n",
    "            else:\n",
    "                return None\n",
    "\n",
    "    except RequestException as e:\n",
    "        log_error('Error during requests to {0} : {1}'.format(url, str(e)))\n",
    "        return None\n",
    "\n",
    "\n",
    "def is_good_response(resp):\n",
    "    \"\"\"\n",
    "    Returns True if the response seems to be HTML, False otherwise.\n",
    "    \"\"\"\n",
    "    content_type = resp.headers['Content-Type'].lower()\n",
    "    return (resp.status_code == 200\n",
    "            and content_type is not None\n",
    "            and content_type.find('html') > -1)\n",
    "\n",
    "\n",
    "def log_error(e):\n",
    "    \"\"\"\n",
    "    It is always a good idea to log errors.\n",
    "    This function just prints them, but you can\n",
    "    make it do anything.\n",
    "    \"\"\"\n",
    "    print(e)"
   ]
  },
  {
   "cell_type": "code",
   "execution_count": 3,
   "metadata": {},
   "outputs": [],
   "source": [
    "sector_data = pd.DataFrame(columns=['Name','Address','Sector'])\n"
   ]
  },
  {
   "cell_type": "code",
   "execution_count": 4,
   "metadata": {},
   "outputs": [],
   "source": [
    "\n",
    "for i in range(1, 538):\n",
    "#     if i%50 == 0:\n",
    "#         print(i)\n",
    "    url = 'https://gender-pay-gap.service.gov.uk/viewing/search-results?p={}'.format(i)\n",
    "    raw_html = simple_get(url)\n",
    "    html = BeautifulSoup(raw_html, 'html.parser')\n",
    "\n",
    "    sectors = html.findAll(\"dd\", {\"class\": \"metadata-text-value\"})\n",
    "    sector = [sector.text.strip() for sector in sectors]\n",
    "\n",
    "    addresses = html.findAll(\"address\", {\"class\": \"\"})\n",
    "    address = [address.text.strip() for address in addresses]\n",
    "\n",
    "    names = html.findAll(\"a\", {\"data-name\": \"ViewLink\"})\n",
    "    name = [name.text.strip() for name in names]\n",
    "\n",
    "    d = {'Name': name, 'Address': address, 'Sector' : sector}\n",
    "    df = pd.DataFrame(data=d)\n",
    "\n",
    "    sector_data = sector_data.append(df)\n",
    "\n",
    "\n"
   ]
  },
  {
   "cell_type": "code",
   "execution_count": 5,
   "metadata": {},
   "outputs": [],
   "source": [
    "sector_data['Sector']  = sector_data['Sector'].str.replace('\\r\\n',\"\")"
   ]
  },
  {
   "cell_type": "code",
   "execution_count": 6,
   "metadata": {},
   "outputs": [],
   "source": [
    "dataset = pd.read_csv('/Users/virteep/IndependentStudy/UK Gender Pay Gap Data - 2017 to 2018.csv')"
   ]
  },
  {
   "cell_type": "code",
   "execution_count": 7,
   "metadata": {},
   "outputs": [],
   "source": [
    "dataset['DateSubmitted'] = pd.to_datetime(dataset['DateSubmitted'])\n",
    "dataset['DueDate'] = pd.to_datetime(dataset['DueDate'])"
   ]
  },
  {
   "cell_type": "code",
   "execution_count": 8,
   "metadata": {},
   "outputs": [],
   "source": [
    "dataset['EmployerSize'] = dataset['EmployerSize'].astype('category')"
   ]
  },
  {
   "cell_type": "code",
   "execution_count": 9,
   "metadata": {},
   "outputs": [],
   "source": [
    "dataset['SicCodes']  = dataset['SicCodes'].str.replace('\\r\\n',\"\")"
   ]
  },
  {
   "cell_type": "code",
   "execution_count": 10,
   "metadata": {},
   "outputs": [],
   "source": [
    "dataset.drop(columns='Address', index=1, inplace=True)"
   ]
  },
  {
   "cell_type": "code",
   "execution_count": 11,
   "metadata": {},
   "outputs": [],
   "source": [
    "data_sector = dataset.merge(sector_data, left_on = 'CurrentName', right_on='Name', how = 'left')"
   ]
  },
  {
   "cell_type": "code",
   "execution_count": 12,
   "metadata": {},
   "outputs": [],
   "source": [
    "#Ref: https://www.civilsociety.co.uk/voices/david-kane-an-analysis-of-the-gender-pay-gap-in-charities.html\n",
    "charity_data = pd.read_csv('gender-pay-gap-with-charity-no.csv', encoding='latin-1')"
   ]
  },
  {
   "cell_type": "code",
   "execution_count": 13,
   "metadata": {},
   "outputs": [],
   "source": [
    "charity_data = charity_data[['CurrentName','OrgType', 'OrgSubType', 'PaidMore', 'FemaleWorkforce']]"
   ]
  },
  {
   "cell_type": "code",
   "execution_count": 14,
   "metadata": {},
   "outputs": [],
   "source": [
    "final_data = data_sector.merge(charity_data, on = 'CurrentName', how = 'left')"
   ]
  },
  {
   "cell_type": "code",
   "execution_count": null,
   "metadata": {},
   "outputs": [],
   "source": [
    "\n",
    "# DiffMeanHourlyPercent       Their mean gender pay gap\n",
    "# DiffMedianHourlyPercent     Their median gender pay gap\n",
    "# DiffMeanBonusPercent        Their mean bonus gender pay gap\n",
    "# DiffMedianBonusPercent      Their median bonus gender pay gap\n",
    "# MaleBonusPercent            The proportion of men in the organisation receiving a bonus payment\n",
    "# FemaleBonusPercent          The proportion of women the organisation receiving a bonus payment\n",
    "# MaleLowerQuartile, FemaleLowerQuartile                 \n",
    "# MaleLowerMiddleQuartile, FemaleLowerMiddleQuartile           \n",
    "# MaleUpperMiddleQuartile, FemaleUpperMiddleQuartile           \n",
    "# MaleTopQuartile, FemaleTopQuartile                \n",
    "#                                      The proportion of men and women in each quartile pay band"
   ]
  },
  {
   "cell_type": "code",
   "execution_count": 15,
   "metadata": {},
   "outputs": [],
   "source": [
    "final_data['Postcode'] = final_data['Address'].str[-8:]\n",
    "final_data['Postcode'] = final_data['Postcode'].str.replace(\",\",\"\")\n",
    "final_data['Postcode'] = final_data['Postcode'].str.strip()"
   ]
  },
  {
   "cell_type": "code",
   "execution_count": 16,
   "metadata": {},
   "outputs": [],
   "source": [
    "postcodes = pd.read_csv('postcodes.csv', usecols=['Postcode', 'Latitude', 'Longitude'])"
   ]
  },
  {
   "cell_type": "code",
   "execution_count": 17,
   "metadata": {},
   "outputs": [],
   "source": [
    "data_with_lat_lon = final_data.merge(postcodes, how = 'inner', on='Postcode')"
   ]
  },
  {
   "cell_type": "code",
   "execution_count": null,
   "metadata": {},
   "outputs": [],
   "source": []
  },
  {
   "cell_type": "code",
   "execution_count": 18,
   "metadata": {},
   "outputs": [],
   "source": [
    "neutral = (data_with_lat_lon['DiffMedianHourlyPercent'] <= 5) & (data_with_lat_lon['DiffMedianHourlyPercent'] >= -5)\n",
    "women_paid_more = data_with_lat_lon['DiffMedianHourlyPercent'] < -5\n",
    "men_paid_more = data_with_lat_lon['DiffMedianHourlyPercent'] > 5\n",
    "\n",
    "data_with_lat_lon.loc[neutral, 'Target'] = 'EqualPay'\n",
    "data_with_lat_lon.loc[women_paid_more, 'Target'] = 'Women'\n",
    "data_with_lat_lon.loc[men_paid_more, 'Target'] = 'Men'"
   ]
  },
  {
   "cell_type": "code",
   "execution_count": 21,
   "metadata": {},
   "outputs": [],
   "source": [
    "data_with_lat_lon.to_csv('UK_gpg_data.csv',index=False)"
   ]
  },
  {
   "cell_type": "code",
   "execution_count": null,
   "metadata": {},
   "outputs": [],
   "source": []
  }
 ],
 "metadata": {
  "kernelspec": {
   "display_name": "Python 3",
   "language": "python",
   "name": "python3"
  },
  "language_info": {
   "codemirror_mode": {
    "name": "ipython",
    "version": 3
   },
   "file_extension": ".py",
   "mimetype": "text/x-python",
   "name": "python",
   "nbconvert_exporter": "python",
   "pygments_lexer": "ipython3",
   "version": "3.6.5"
  }
 },
 "nbformat": 4,
 "nbformat_minor": 2
}
